{
 "cells": [
  {
   "cell_type": "code",
   "execution_count": 1,
   "metadata": {},
   "outputs": [
    {
     "name": "stderr",
     "output_type": "stream",
     "text": [
      "C:\\Users\\Ivana\\AppData\\Local\\Temp\\ipykernel_28256\\1817289731.py:3: DeprecationWarning: `import pandas_profiling` is going to be deprecated by April 1st. Please use `import ydata_profiling` instead.\n",
      "  from pandas_profiling import ProfileReport\n",
      "[nltk_data] Downloading package punkt to\n",
      "[nltk_data]     C:\\Users\\Ivana\\AppData\\Roaming\\nltk_data...\n",
      "[nltk_data]   Package punkt is already up-to-date!\n",
      "[nltk_data] Downloading package stopwords to\n",
      "[nltk_data]     C:\\Users\\Ivana\\AppData\\Roaming\\nltk_data...\n",
      "[nltk_data]   Package stopwords is already up-to-date!\n"
     ]
    }
   ],
   "source": [
    "import random\n",
    "import pandas as pd\n",
    "from pandas_profiling import ProfileReport\n",
    "import numpy as np\n",
    "import nltk\n",
    "nltk.download('punkt')\n",
    "nltk.download('stopwords')\n",
    "from nltk.tokenize import word_tokenize\n",
    "from nltk.stem import PorterStemmer\n",
    "from nltk.corpus import stopwords\n",
    "import torch\n",
    "from tqdm import tqdm\n",
    "import warnings\n",
    "warnings.filterwarnings('ignore')"
   ]
  },
  {
   "cell_type": "code",
   "execution_count": 3,
   "metadata": {},
   "outputs": [
    {
     "name": "stderr",
     "output_type": "stream",
     "text": [
      "100%|██████████| 1244184/1244184 [01:44<00:00, 11912.31it/s]\n"
     ]
    },
    {
     "name": "stdout",
     "output_type": "stream",
     "text": [
      "# of headlines: 1244184\n",
      "# of headline tokens in vocabulary: 108058\n",
      "avg. length of headlines: 41.28453910354096 chars, 6.557524449759843 tokens\n",
      "publish date range: (20030219, 20211231)\n"
     ]
    },
    {
     "data": {
      "application/vnd.jupyter.widget-view+json": {
       "model_id": "966e432a53054c568dd855ed5ea82238",
       "version_major": 2,
       "version_minor": 0
      },
      "text/plain": [
       "Summarize dataset:   0%|          | 0/5 [00:00<?, ?it/s]"
      ]
     },
     "metadata": {},
     "output_type": "display_data"
    },
    {
     "data": {
      "application/vnd.jupyter.widget-view+json": {
       "model_id": "7cbaa80bc9f54f28934739048790a3c1",
       "version_major": 2,
       "version_minor": 0
      },
      "text/plain": [
       "Generate report structure:   0%|          | 0/1 [00:00<?, ?it/s]"
      ]
     },
     "metadata": {},
     "output_type": "display_data"
    },
    {
     "data": {
      "application/vnd.jupyter.widget-view+json": {
       "model_id": "97b6bfe5cdfc46b69a5ab876d8976fab",
       "version_major": 2,
       "version_minor": 0
      },
      "text/plain": [
       "Render widgets:   0%|          | 0/1 [00:00<?, ?it/s]"
      ]
     },
     "metadata": {},
     "output_type": "display_data"
    },
    {
     "data": {
      "application/vnd.jupyter.widget-view+json": {
       "model_id": "055defc6c6194992944b56d95d3e1dfb",
       "version_major": 2,
       "version_minor": 0
      },
      "text/plain": [
       "VBox(children=(Tab(children=(Tab(children=(GridBox(children=(VBox(children=(GridspecLayout(children=(HTML(valu…"
      ]
     },
     "metadata": {},
     "output_type": "display_data"
    }
   ],
   "source": [
    "df = pd.read_csv('abcnews-date-text.csv',sep=',')#read the csv file\n",
    "def data_stat(df):\n",
    "    voc=set()\n",
    "    words=[]\n",
    "    for text in tqdm(df.headline_text):\n",
    "        for word in word_tokenize(text):\n",
    "            voc.add(word)\n",
    "            words.append(word)\n",
    "    print(f'# of headlines: {len(df)}')\n",
    "    print(f'# of headline tokens in vocabulary: {len(voc)}')\n",
    "    avg_headline_len_char = np.average(df.headline_text.apply(len))\n",
    "    avg_headline_len_tokens = np.average(df.headline_text.apply(lambda x: len(x.split(' '))))\n",
    "    print(f'avg. length of headlines: {avg_headline_len_char} chars, {avg_headline_len_tokens} tokens')\n",
    "    publish_date_range = (df.publish_date.sort_values().values[0], df.publish_date.sort_values().values[-1])\n",
    "    print(f'publish date range: {publish_date_range}')\n",
    "    profile = ProfileReport(df, title=\"Data Profiling Report\", explorative=True)\n",
    "    profile.to_widgets()\n",
    "    return voc, words\n",
    "voc, words = data_stat(df)"
   ]
  },
  {
   "cell_type": "code",
   "execution_count": 5,
   "metadata": {},
   "outputs": [
    {
     "name": "stderr",
     "output_type": "stream",
     "text": [
      "100%|██████████| 1213004/1213004 [10:41<00:00, 1892.15it/s]\n"
     ]
    },
    {
     "name": "stdout",
     "output_type": "stream",
     "text": [
      "After preprocessing: \n"
     ]
    },
    {
     "name": "stderr",
     "output_type": "stream",
     "text": [
      "100%|██████████| 1213004/1213004 [01:39<00:00, 12165.74it/s]\n"
     ]
    },
    {
     "name": "stdout",
     "output_type": "stream",
     "text": [
      "# of headlines: 1213004\n",
      "# of headline tokens in vocabulary: 108058\n",
      "avg. length of headlines: 41.72189869118321 chars, 6.6297003142611235 tokens\n",
      "publish date range: (20030219, 20211231)\n"
     ]
    },
    {
     "data": {
      "application/vnd.jupyter.widget-view+json": {
       "model_id": "fb14bdf0ebf54fe29512142819f6cbbd",
       "version_major": 2,
       "version_minor": 0
      },
      "text/plain": [
       "Summarize dataset:   0%|          | 0/5 [00:00<?, ?it/s]"
      ]
     },
     "metadata": {},
     "output_type": "display_data"
    },
    {
     "data": {
      "application/vnd.jupyter.widget-view+json": {
       "model_id": "f280e5c82c804a4d8856e1030a27fc65",
       "version_major": 2,
       "version_minor": 0
      },
      "text/plain": [
       "Generate report structure:   0%|          | 0/1 [00:00<?, ?it/s]"
      ]
     },
     "metadata": {},
     "output_type": "display_data"
    },
    {
     "data": {
      "application/vnd.jupyter.widget-view+json": {
       "model_id": "385e339ba2f04059a49d869574b0bd89",
       "version_major": 2,
       "version_minor": 0
      },
      "text/plain": [
       "Render widgets:   0%|          | 0/1 [00:00<?, ?it/s]"
      ]
     },
     "metadata": {},
     "output_type": "display_data"
    },
    {
     "data": {
      "application/vnd.jupyter.widget-view+json": {
       "model_id": "6b443e9df6354b88aaea84466573ba13",
       "version_major": 2,
       "version_minor": 0
      },
      "text/plain": [
       "VBox(children=(Tab(children=(Tab(children=(GridBox(children=(VBox(children=(GridspecLayout(children=(HTML(valu…"
      ]
     },
     "metadata": {},
     "output_type": "display_data"
    }
   ],
   "source": [
    "def standard(text):\n",
    "    stop_words = stopwords.words('english')\n",
    "    ps = PorterStemmer()# Terminology Standardization Process\n",
    "    return ' '.join([ps.stem(w) for w in word_tokenize(text) if not w.lower() in stop_words])\n",
    "def preprocess(df):\n",
    "    tqdm.pandas() #getting clearer to the progress rate\n",
    "    df = df.drop_duplicates(subset=['headline_text']) #drop the duplicates\n",
    "    df['preprocssed_headline_text'] = df['headline_text'].progress_apply(standard)\n",
    "    return df\n",
    "data = preprocess(df)\n",
    "print('After preprocessing: ')\n",
    "vocab, words = data_stat(data) #get the data profile after preprocessing"
   ]
  },
  {
   "cell_type": "markdown",
   "metadata": {},
   "source": []
  }
 ],
 "metadata": {
  "kernelspec": {
   "display_name": "base",
   "language": "python",
   "name": "python3"
  },
  "language_info": {
   "codemirror_mode": {
    "name": "ipython",
    "version": 3
   },
   "file_extension": ".py",
   "mimetype": "text/x-python",
   "name": "python",
   "nbconvert_exporter": "python",
   "pygments_lexer": "ipython3",
   "version": "3.10.9"
  },
  "orig_nbformat": 4
 },
 "nbformat": 4,
 "nbformat_minor": 2
}
